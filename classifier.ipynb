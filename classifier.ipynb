{
 "cells": [
  {
   "cell_type": "code",
   "execution_count": null,
   "metadata": {},
   "outputs": [],
   "source": [
    "import numpy as np\n",
    "import pandas as pd\n",
    "from matplotlib import pyplot as plt\n",
    "%matplotlib inline\n",
    "from keras.models import Model\n",
    "from keras.layers import Dropout ,Activation,AveragePooling2D, normalization,Convolution2D,MaxPooling2D\n",
    "from keras.layers import Dense, Flatten, Reshape, Input\n",
    "from keras.utils import np_utils"
   ]
  },
  {
   "cell_type": "code",
   "execution_count": null,
   "metadata": {},
   "outputs": [],
   "source": [
    "X_train = np.load(\"./X_train.npy\")\n",
    "Y_train = np.load(\"./Y_train.npy\")"
   ]
  },
  {
   "cell_type": "code",
   "execution_count": null,
   "metadata": {},
   "outputs": [],
   "source": [
    "X_train = X_train/255.0\n",
    "Y_train = np_utils.to_categorical(Y_train)\n",
    "print X_train.shape, Y_train.shape"
   ]
  },
  {
   "cell_type": "code",
   "execution_count": null,
   "metadata": {},
   "outputs": [],
   "source": [
    "for ix in range(10):\n",
    "    plt.figure(ix)\n",
    "    plt.imshow(X_train[ix], interpolation='none', cmap='gray')\n",
    "plt.show()"
   ]
  },
  {
   "cell_type": "code",
   "execution_count": null,
   "metadata": {},
   "outputs": [],
   "source": [
    "inp = Input(shape=(200,200,3))\n",
    "\n",
    "x1 = Convolution2D( 32,(11,11))(inp)\n",
    "\n",
    "r1_a1 = Activation('relu')(x1)\n",
    "r1_w1 = Convolution2D(64,( 11,11))(r1_a1)\n",
    "r1_a2 = Activation('relu')(r1_w1)\n",
    "max_pool_r1 = MaxPooling2D((2,2))(r1_a2)\n",
    "r1_d1 = Dropout(0.2)(max_pool_r1)\n",
    "\n",
    "x2 = Convolution2D(64,( 11,11))(r1_d1)\n",
    "\n",
    "r2_a1 = Activation('relu')(x2)\n",
    "r2_w1 = Convolution2D(32,( 11,11))(r2_a1)\n",
    "r2_a2 = Activation('relu')(r2_w1)\n",
    "max_pool_r2 = MaxPooling2D((2,2))(r2_a2)\n",
    "r2_d1 = Dropout(0.2)(max_pool_r2)\n",
    "\n",
    "\n",
    "x3 = Convolution2D(8,( 11,11))(r2_d1)\n",
    "acti = Activation('relu')(x3)\n",
    "max_pool_r3 = MaxPooling2D((2,2))(acti)\n",
    "r3_d1 = Dropout(0.2)(max_pool_r3)\n",
    "f1 = Flatten()(r3_d1)\n",
    "fc1 = Dense(128)(f1)\n",
    "a1 = Activation('relu')(fc1)\n",
    "fc3 = Dense(2)(a1)\n",
    "a3 = Activation('softmax')(fc3)\n",
    "\n",
    "model = Model(outputs=a3, inputs=inp)\n",
    "model.summary()"
   ]
  },
  {
   "cell_type": "code",
   "execution_count": null,
   "metadata": {},
   "outputs": [],
   "source": [
    "model.compile(loss='binary_crossentropy', optimizer='adam', metrics=['accuracy'])"
   ]
  },
  {
   "cell_type": "code",
   "execution_count": null,
   "metadata": {},
   "outputs": [],
   "source": [
    "hist = model.fit(X_train,Y_train,\n",
    "                 epochs=10,\n",
    "                 shuffle=True,\n",
    "                 batch_size=16,\n",
    "                 validation_split=0.20)"
   ]
  },
  {
   "cell_type": "code",
   "execution_count": null,
   "metadata": {},
   "outputs": [],
   "source": [
    "plt.plot(hist.history['acc'],'g')\n",
    "plt.plot(hist.history['val_acc'],'b')\n",
    "plt.plot(hist.history['loss'],'r')\n",
    "plt.plot(hist.history['val_loss'],'black')"
   ]
  },
  {
   "cell_type": "code",
   "execution_count": null,
   "metadata": {},
   "outputs": [],
   "source": [
    "model.sava(\"bottle_classifier.h5\")"
   ]
  }
 ],
 "metadata": {
  "kernelspec": {
   "display_name": "Python 2",
   "language": "python",
   "name": "python2"
  },
  "language_info": {
   "codemirror_mode": {
    "name": "ipython",
    "version": 2
   },
   "file_extension": ".py",
   "mimetype": "text/x-python",
   "name": "python",
   "nbconvert_exporter": "python",
   "pygments_lexer": "ipython2",
   "version": "2.7.12"
  }
 },
 "nbformat": 4,
 "nbformat_minor": 2
}
