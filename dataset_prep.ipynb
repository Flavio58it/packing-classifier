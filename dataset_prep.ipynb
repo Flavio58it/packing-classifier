{
 "cells": [
  {
   "cell_type": "code",
   "execution_count": 4,
   "metadata": {},
   "outputs": [],
   "source": [
    "import numpy as np\n",
    "import pandas as pd\n",
    "import cv2\n",
    "import os\n",
    "from matplotlib import pyplot as plt\n",
    "%matplotlib inline"
   ]
  },
  {
   "cell_type": "code",
   "execution_count": 66,
   "metadata": {},
   "outputs": [],
   "source": [
    "path = \"/home/vasu/all_projects/GSoC/Open-food-facts/packing classifier/\""
   ]
  },
  {
   "cell_type": "code",
   "execution_count": 67,
   "metadata": {},
   "outputs": [],
   "source": [
    "meta_data = pd.read_csv(\"./output.csv\")"
   ]
  },
  {
   "cell_type": "code",
   "execution_count": 68,
   "metadata": {},
   "outputs": [],
   "source": [
    "meta_data = np.array(meta_data)"
   ]
  },
  {
   "cell_type": "code",
   "execution_count": 63,
   "metadata": {},
   "outputs": [],
   "source": [
    "data = meta_data[13][1].split(\",\")"
   ]
  },
  {
   "cell_type": "code",
   "execution_count": 141,
   "metadata": {},
   "outputs": [],
   "source": [
    "list_labels = []\n",
    "label_dict = {}\n",
    "list_uniques_labels = []"
   ]
  },
  {
   "cell_type": "code",
   "execution_count": 148,
   "metadata": {},
   "outputs": [
    {
     "data": {
      "text/plain": [
       "(567, 586, 797, 804)"
      ]
     },
     "execution_count": 148,
     "metadata": {},
     "output_type": "execute_result"
    }
   ],
   "source": [
    "567,586,797,804"
   ]
  },
  {
   "cell_type": "code",
   "execution_count": 146,
   "metadata": {},
   "outputs": [],
   "source": [
    "for ix in range(805,meta_data.shape[0]):\n",
    "    list_labels = []\n",
    "    data = meta_data[ix][1].split(\",\")\n",
    "    if data[0] == '[]':\n",
    "        pass\n",
    "    else:\n",
    "        for ij in range(len(data)):\n",
    "            list_labels.append(data[ij][:-50].split(\":\")[2][2:-1])\n",
    "            if data[ij][:-50].split(\":\")[2][2:-1] not in list_uniques_labels:\n",
    "                list_uniques_labels.append(data[ij][:-50].split(\":\")[2][2:-1])\n",
    "    label_dict[meta_data[ix][0]] = list_labels"
   ]
  },
  {
   "cell_type": "code",
   "execution_count": 345,
   "metadata": {
    "scrolled": true
   },
   "outputs": [
    {
     "data": {
      "text/plain": [
       "91"
      ]
     },
     "execution_count": 345,
     "metadata": {},
     "output_type": "execute_result"
    }
   ],
   "source": [
    "len(bottles_n_can)"
   ]
  },
  {
   "cell_type": "code",
   "execution_count": 355,
   "metadata": {},
   "outputs": [],
   "source": [
    "labels_dict = {}"
   ]
  },
  {
   "cell_type": "code",
   "execution_count": 362,
   "metadata": {},
   "outputs": [],
   "source": [
    "import csv\n",
    " \n",
    "w = csv.writer(open(\"data_labels.csv\", \"wb\"))\n",
    "for key, val in labels_dict.items():\n",
    "    w.writerow([key, val])"
   ]
  },
  {
   "cell_type": "code",
   "execution_count": 357,
   "metadata": {},
   "outputs": [],
   "source": [
    "for ix in label_dict.keys():\n",
    "    labels_dict[ix] = 0"
   ]
  },
  {
   "cell_type": "code",
   "execution_count": 359,
   "metadata": {},
   "outputs": [],
   "source": [
    "for ix in label_dict.keys():\n",
    "    for ij in label_dict[ix]:\n",
    "        if ij in bottles_n_can and labels_dict[ix] == 0:\n",
    "            labels_dict[ix] = 1"
   ]
  }
 ],
 "metadata": {
  "kernelspec": {
   "display_name": "Python 2",
   "language": "python",
   "name": "python2"
  },
  "language_info": {
   "codemirror_mode": {
    "name": "ipython",
    "version": 2
   },
   "file_extension": ".py",
   "mimetype": "text/x-python",
   "name": "python",
   "nbconvert_exporter": "python",
   "pygments_lexer": "ipython2",
   "version": "2.7.12"
  }
 },
 "nbformat": 4,
 "nbformat_minor": 2
}
